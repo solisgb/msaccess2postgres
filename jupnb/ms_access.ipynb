{
 "cells": [
  {
   "cell_type": "markdown",
   "id": "42c80753-51c3-4e8d-aaab-d293cd8d0c1f",
   "metadata": {},
   "source": [
    "# Open Access database"
   ]
  },
  {
   "cell_type": "code",
   "execution_count": 28,
   "id": "5c066b30-82e6-4c98-b7df-e78fa07a9a0c",
   "metadata": {},
   "outputs": [
    {
     "name": "stdout",
     "output_type": "stream",
     "text": [
      "1\n",
      "Microsoft Access Driver (*.mdb, *.accdb)\n"
     ]
    }
   ],
   "source": [
    "import pyodbc\n",
    "drvs = [x for x in pyodbc.drivers() if x.startswith('Microsoft Access Driver')]\n",
    "print(len(drvs))\n",
    "if len(drvs):\n",
    "    for drvs1 in drvs:\n",
    "        print(drvs1)"
   ]
  },
  {
   "cell_type": "code",
   "execution_count": 29,
   "id": "ab62827d-5dab-4632-b7af-7a1800459bbc",
   "metadata": {},
   "outputs": [],
   "source": [
    "dbfile = r'path2file;'\n",
    "\n",
    "con_str = r'DRIVER={Microsoft Access Driver (*.mdb, *.accdb)}; ' + f'DBQ={dbfile};'\n",
    "con = pyodbc.connect(con_str)\n",
    "cur = con.cursor()"
   ]
  },
  {
   "cell_type": "code",
   "execution_count": 30,
   "id": "cb1c853e-940c-4f2c-bd51-ef02b36dbfba",
   "metadata": {
    "collapsed": true,
    "jupyter": {
     "outputs_hidden": true
    },
    "tags": []
   },
   "outputs": [
    {
     "name": "stdout",
     "output_type": "stream",
     "text": [
      "table1\n",
      "table2\n"
     ]
    }
   ],
   "source": [
    "tables = [table1 for table1 in cur.tables(tableType='TABLE')]\n",
    "for table1 in tables:\n",
    "    print(table1.table_name)"
   ]
  },
  {
   "cell_type": "code",
   "execution_count": 44,
   "id": "dd5a96ab-3bcf-4fd6-abc7-7745fb629461",
   "metadata": {},
   "outputs": [
    {
     "name": "stdout",
     "output_type": "stream",
     "text": [
      "Codigo VARCHAR\n",
      "fecha DATETIME\n",
      "situaci VARCHAR\n",
      "pnp DOUBLE\n"
     ]
    }
   ],
   "source": [
    "table1 = 'mytable'\n",
    "for row in cur.columns(table=table1):\n",
    "    print(row.column_name, row.type_name)"
   ]
  },
  {
   "cell_type": "markdown",
   "id": "fd8b0bce-91cb-4360-907a-99bffc5db66a",
   "metadata": {},
   "source": [
    "## Exportar db to csv"
   ]
  },
  {
   "cell_type": "markdown",
   "id": "e67bb9c2-fd70-4418-a10c-f702a706467f",
   "metadata": {},
   "source": [
    "### Function"
   ]
  },
  {
   "cell_type": "code",
   "execution_count": 57,
   "id": "8667460a-3a6b-41f2-9336-9b52dca6021b",
   "metadata": {},
   "outputs": [],
   "source": [
    "import csv\n",
    "from os.path import join\n",
    "\n",
    "def to_csv(cur, table1, direc, schema, w_csv=True, w_sql=True, encoding='UTF-8'):\n",
    "    \"\"\"\n",
    "    \n",
    "    \"\"\"\n",
    "    a2p_types = {'VARCHAR': 'varchar', 'INTEGER': 'integer', 'REAL': 'float32', 'DOUBLE': 'float32',\n",
    "            'DATETIME': 'timesatmp'}\n",
    "\n",
    "    column_names = [row.column_name.lower().strip().replace(' ', '_') for row in cur.columns(table=f'{table1}')]\n",
    "    column_types = [row.type_name for row in cur.columns(table=f'{table1}')]\n",
    "\n",
    "    if w_csv:\n",
    "        cur.execute(f'select * from {table1}')\n",
    "\n",
    "        csv_file = join(direc, table1.lower())\n",
    "        with open(f'{csv_file}.csv', 'w', newline='') as fo:\n",
    "            wfo = csv.writer(fo)\n",
    "            wfo.writerow(column_names)\n",
    "            for row in cur.fetchall():\n",
    "                wfo.writerow(row)\n",
    "\n",
    "    if w_sql:\n",
    "        sql_file = join(direc, f'{table1.strip().lower()}') + '.sql'\n",
    "        with open(f'{sql_file}', 'w', newline='') as fo:\n",
    "            table1 = f'{schema}.{table1.strip().lower()}'\n",
    "            fo.write(f'create table if not exists {table1}(\\n')\n",
    "            for i, (col_name, col_type) in enumerate(zip(column_names, column_types)):\n",
    "                fo.write(f'{col_name} {a2p_types[col_type]}')\n",
    "                if i < len(column_names) - 1:\n",
    "                    fo.write(',\\n')\n",
    "\n",
    "            pk_cols = [row[8] for row in cur.statistics(table1) if row[5]=='PrimaryKey']\n",
    "            if len(pk_cols) > 0:\n",
    "                pk_cols = ', '.join(pk_cols)\n",
    "                fo.write(',\\n')\n",
    "                fo.write(f'{pk_cols}\\n);')\n",
    "            else:\n",
    "                fo.write('\\n);')\n",
    "        \n",
    "            str_col_names = ', '.join(column_names)\n",
    "            csv_file = join(direc, table1.lower())\n",
    "            stm = f\"copy {table1} ({str_col_names}) from '{csv_file}' with CSV header delimiter ',' encoding '{encoding}';\"\n",
    "            fo.write('\\n\\n')\n",
    "            fo.write(f'{stm}\\n')"
   ]
  },
  {
   "cell_type": "code",
   "execution_count": 58,
   "id": "a868c8b3-d6f4-44d5-b014-92d5ea585ca3",
   "metadata": {},
   "outputs": [
    {
     "name": "stdout",
     "output_type": "stream",
     "text": [
      "terminado\n"
     ]
    }
   ],
   "source": [
    "\n",
    "direc = r'path2' \n",
    "table1 = 'mytable'\n",
    "schema = 'myschema'\n",
    "\n",
    "to_csv(cur, table1, direc, schema)\n",
    "\n",
    "print('end')"
   ]
  },
  {
   "cell_type": "code",
   "execution_count": null,
   "id": "974b1e93-f5c0-4f44-8989-e3f38d37b909",
   "metadata": {},
   "outputs": [],
   "source": []
  }
 ],
 "metadata": {
  "kernelspec": {
   "display_name": "Python 3 (ipykernel)",
   "language": "python",
   "name": "python3"
  },
  "language_info": {
   "codemirror_mode": {
    "name": "ipython",
    "version": 3
   },
   "file_extension": ".py",
   "mimetype": "text/x-python",
   "name": "python",
   "nbconvert_exporter": "python",
   "pygments_lexer": "ipython3",
   "version": "3.8.12"
  }
 },
 "nbformat": 4,
 "nbformat_minor": 5
}
