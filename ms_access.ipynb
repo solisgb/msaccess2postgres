{
 "cells": [
  {
   "cell_type": "markdown",
   "id": "42c80753-51c3-4e8d-aaab-d293cd8d0c1f",
   "metadata": {},
   "source": [
    "# Open Access database"
   ]
  },
  {
   "cell_type": "code",
   "execution_count": 28,
   "id": "5c066b30-82e6-4c98-b7df-e78fa07a9a0c",
   "metadata": {},
   "outputs": [
    {
     "name": "stdout",
     "output_type": "stream",
     "text": [
      "1\n",
      "Microsoft Access Driver (*.mdb, *.accdb)\n"
     ]
    }
   ],
   "source": [
    "import pyodbc\n",
    "drvs = [x for x in pyodbc.drivers() if x.startswith('Microsoft Access Driver')]\n",
    "print(len(drvs))\n",
    "if len(drvs):\n",
    "    for drvs1 in drvs:\n",
    "        print(drvs1)"
   ]
  },
  {
   "cell_type": "code",
   "execution_count": 29,
   "id": "ab62827d-5dab-4632-b7af-7a1800459bbc",
   "metadata": {},
   "outputs": [],
   "source": [
    "dbfile = r'path2file;'\n",
    "\n",
    "con_str = r'DRIVER={Microsoft Access Driver (*.mdb, *.accdb)}; ' + f'DBQ={dbfile};'\n",
    "con = pyodbc.connect(con_str)\n",
    "cur = con.cursor()"
   ]
  },
  {
   "cell_type": "code",
   "execution_count": 30,
   "id": "cb1c853e-940c-4f2c-bd51-ef02b36dbfba",
   "metadata": {
    "collapsed": true,
    "jupyter": {
     "outputs_hidden": true
    },
    "tags": []
   },
   "outputs": [
    {
     "name": "stdout",
     "output_type": "stream",
     "text": [
      "___AMAEM\n",
      "___CAN\n",
      "___CGU\n",
      "___CR MONFORTE\n",
      "___SCHA\n",
      "___usuarios_AMAEM\n",
      "___usuarios_CAN\n",
      "___usuarios_CGU\n",
      "___usuarios_MD\n",
      "___usuarios_MONFORTE\n",
      "___usuarios_SCHA\n",
      "_Balsas usuarios JCUAV\n",
      "_Bernedo_Basicos\n",
      "_Bernedo_Explotaciones\n",
      "_CAPT_DENTRO_SE_VINALOPO_DEF_11_07_5_2\n",
      "_CAPTADORES\n",
      "_contadores dudosos\n",
      "_Copia seguridad de cruces_maria\n",
      "_COPSEG_POZOS\n",
      "_Datos Otros estudios recientes\n",
      "_DATOS_CALIDAD_02/03/2011\n",
      "_DATOS_CALIDAD_09/03/2011\n",
      "_Datos_explo_recientes_otros estudios\n",
      "_Datos_niveles_recientes_Otros estudios\n",
      "_edu_calidad\n",
      "_EDU_RESUMEN_EXTRACCIONES20110520\n",
      "_eerr_av1\n",
      "_Equival_cod2006_2009\n",
      "_InscripIdentifEnCampoConConta0\n",
      "_javier_conduc_usu\n",
      "_javier_costes_energia\n",
      "_javier_pozos_UDA\n",
      "_JL_Comparativa_Dotaciones\n",
      "_JL_Cultivos_Titular_Udas_Maria\n",
      "_JL_porcentajes_Baterias JCUAV\n",
      "_MAria_Asig Masub\n",
      "_Maria_CostePond\n",
      "_Maria_DAtosCostesEncuestados\n",
      "_Maria_InscriConPozosEnDistintasMAsub\n",
      "_Maria_Inscrip_excel\n",
      "_Maria_Inscrip_ViToma\n",
      "_Maria_Uda_AreaRiego\n",
      "_Maria_vol por entidad_JC\n",
      "_MariaAbto2\n",
      "_MariaBateriasSinUDa\n",
      "_MariaCostePNPEduResumen\n",
      "_MariaPozos\n",
      "_MariaPozos2\n",
      "_MariaPozos3\n",
      "_MariaPozos4\n",
      "_MariaREfMasub\n",
      "_MariaRelacion\n",
      "_MariaVol_CHJ\n",
      "_MariaVol_JCU\n",
      "_MariaVol_JCU2\n",
      "_MariaVolPorPozo20052006\n",
      "_Mikel_ConjPozos\n",
      "_Mikel_ConjPozos_UD\n",
      "_Mikel_Pozos\n",
      "_Mikel_Pozos_ConjPozos\n",
      "_Mikel_Pozos_derechos\n",
      "_mikel_volumen_contador_test\n",
      "_Mikel_Volumenes Contador_2008y2009\n",
      "_pozos sin contador\n",
      "_pozos_uda_interseccion\n",
      "_pozos_uda_proximos\n",
      "_resumen_derechos_subterraneas_tabla_original_excel\n",
      "_resumen_derechos_subterraneas_tabla_original_excel_NUEVA\n",
      "_tirado\n",
      "_TITULARES\n",
      "_USUARIOS\n",
      "_USUARIOS_CONDUC\n",
      "_VI_AguaSumi_Por_Titular y año\n",
      "_VI_AguaSumi_Titular_año_En Porcentajes\n",
      "_VI_areas\n",
      "_VI_Coste medio_por captador\n",
      "_VI_Costes_original (seguridad)\n",
      "_VI_Costes_original_resto\n",
      "_VI_Costes_por toma_detalles\n",
      "_VI_Toma\n",
      "_VI_TOMA_SUMINIS\n",
      "_vi_toma_suminis_origen\n",
      "_VI_Toma_Ud\n",
      "_VI_Ud_Culti_OriginalAntesDeReducirCualquierSuperficies\n",
      "_VI_Ud_Culti_primera reduccion\n",
      "_VI_Ud_Culti_segunda reduccion\n",
      "_VI_Ud_Riego Atendidas por CGUAV\n",
      "_VI_Vol_Extraccion_Tomas\n",
      "_Z_JL_Dotaciones_Primer_AjusteElaborado\n",
      "_Z_JL_Primera comparacion vol_sumnist_demanda2009\n",
      "_Z_JL_Primera Propuesta de ajuste\n",
      "_Z_JL_Segunda Propuesta de ajuste\n",
      "_Z_JL_UD_Culti_primeraReduccionElaborada\n",
      "_ZONAUSO\n",
      "_ZZZ_PTOS_2005-06_Con acuif_DPA\n",
      "ACUIFEROS\n",
      "altres eerr\n",
      "AsignacionAreasUDAS\n",
      "BALSAS\n",
      "CAPTACIONES\n",
      "Conduc_Univer_AV\n",
      "Conduc_Univers_AV1\n",
      "CONDUCCIONES\n",
      "CONECTABLE\n",
      "CONFIGURACION\n",
      "Costes_Extraccion\n",
      "CostesPorConduccYMasub\n",
      "DATOS_CALIDAD\n",
      "Datos_JCU$_ErroresDeImportación\n",
      "Datos_JCU$_ErroresDeImportación1\n",
      "EDU_PERIODOS_NO_COMPLETADO\n",
      "EDU_RESUMEN_EXTRACCIONES\n",
      "Errores de pegado\n",
      "FILTROS_SIMULADOR\n",
      "Hoja2$_ErroresDeImportación\n",
      "INSCRIPCIONES\n",
      "MASUB\n",
      "Mikel_Datos_TablaExcell_OPH\n",
      "Mikel_Pozos_contador\n",
      "Mikel_VITOMA_UD\n",
      "Mikel_Volumenes Contador\n",
      "ORIGENES_DESTINOS_POZOS\n",
      "pous_eerr_av\n",
      "POZOS\n",
      "'POZOS - EXPEDIENTES VINALOPO$'_ErroresDeImportación\n",
      "Relación$_ErroresDeImportación\n",
      "TODOS\n",
      "USUARIOS_BALSAS\n",
      "VI_calidad\n",
      "vi_calidad_origen\n",
      "VI_Conduc\n",
      "VI_Conduc_AreaUso\n",
      "VI_Conduc_tramo\n",
      "VI_Culti_campo\n",
      "VI_Depo\n",
      "VI_Dot_Culti_Asimilados PHJ\n",
      "VI_Dot_media_Universidad\n",
      "VI_Dot_medias_propuestas\n",
      "VI_Dotac_EncuestadaDeMomentoNoUtilizada\n",
      "VI_ipa2\n",
      "VI_Titul\n",
      "VI_Toma\n",
      "VI_Toma_conduc\n",
      "VI_Toma_depo\n",
      "VI_Toma_Img\n",
      "VI_Ud\n",
      "VI_Ud_Culti\n",
      "VI_Ud_Culti_PHJ\n",
      "VI_Ud_Culti_Universidad\n",
      "vi_ud_zonas\n",
      "VI_UDAS\n",
      "VOL_INSCRIPCION\n",
      "ZONASUSO\n"
     ]
    }
   ],
   "source": [
    "tables = [table1 for table1 in cur.tables(tableType='TABLE')]\n",
    "for table1 in tables:\n",
    "    print(table1.table_name)"
   ]
  },
  {
   "cell_type": "code",
   "execution_count": 44,
   "id": "dd5a96ab-3bcf-4fd6-abc7-7745fb629461",
   "metadata": {},
   "outputs": [
    {
     "name": "stdout",
     "output_type": "stream",
     "text": [
      "Codigo VARCHAR\n",
      "fecha DATETIME\n",
      "situaci VARCHAR\n",
      "pnp DOUBLE\n"
     ]
    }
   ],
   "source": [
    "table1 = 'mytable'\n",
    "for row in cur.columns(table=table1):\n",
    "    print(row.column_name, row.type_name)"
   ]
  },
  {
   "cell_type": "markdown",
   "id": "fd8b0bce-91cb-4360-907a-99bffc5db66a",
   "metadata": {},
   "source": [
    "## Exportar db to csv"
   ]
  },
  {
   "cell_type": "markdown",
   "id": "e67bb9c2-fd70-4418-a10c-f702a706467f",
   "metadata": {},
   "source": [
    "### Function"
   ]
  },
  {
   "cell_type": "code",
   "execution_count": 57,
   "id": "8667460a-3a6b-41f2-9336-9b52dca6021b",
   "metadata": {},
   "outputs": [],
   "source": [
    "import csv\n",
    "from os.path import join\n",
    "\n",
    "def to_csv(cur, table1, direc, schema, w_csv=True, w_sql=True, encoding='UTF-8'):\n",
    "    \"\"\"\n",
    "    \n",
    "    \"\"\"\n",
    "    a2p_types = {'VARCHAR': 'varchar', 'INTEGER': 'integer', 'REAL': 'float32', 'DOUBLE': 'float32',\n",
    "            'DATETIME': 'timesatmp'}\n",
    "\n",
    "    column_names = [row.column_name.lower().strip().replace(' ', '_') for row in cur.columns(table=f'{table1}')]\n",
    "    column_types = [row.type_name for row in cur.columns(table=f'{table1}')]\n",
    "\n",
    "    if w_csv:\n",
    "        cur.execute(f'select * from {table1}')\n",
    "\n",
    "        csv_file = join(direc, table1.lower())\n",
    "        with open(f'{csv_file}.csv', 'w', newline='') as fo:\n",
    "            wfo = csv.writer(fo)\n",
    "            wfo.writerow(column_names)\n",
    "            for row in cur.fetchall():\n",
    "                wfo.writerow(row)\n",
    "\n",
    "    if w_sql:\n",
    "        sql_file = join(direc, f'{table1.strip().lower()}') + '.sql'\n",
    "        with open(f'{sql_file}', 'w', newline='') as fo:\n",
    "            table1 = f'{schema}.{table1.strip().lower()}'\n",
    "            fo.write(f'create table if not exists {table1}(\\n')\n",
    "            for i, (col_name, col_type) in enumerate(zip(column_names, column_types)):\n",
    "                fo.write(f'{col_name} {a2p_types[col_type]}')\n",
    "                if i < len(column_names) - 1:\n",
    "                    fo.write(',\\n')\n",
    "\n",
    "            pk_cols = [row[8] for row in cur.statistics(table1) if row[5]=='PrimaryKey']\n",
    "            if len(pk_cols) > 0:\n",
    "                pk_cols = ', '.join(pk_cols)\n",
    "                fo.write(',\\n')\n",
    "                fo.write(f'{pk_cols}\\n);')\n",
    "            else:\n",
    "                fo.write('\\n);')\n",
    "        \n",
    "            str_col_names = ', '.join(column_names)\n",
    "            csv_file = join(direc, table1.lower())\n",
    "            stm = f\"copy {table1} ({str_col_names}) from '{csv_file}' with CSV header delimiter ',' encoding '{encoding}';\"\n",
    "            fo.write('\\n\\n')\n",
    "            fo.write(f'{stm}\\n')"
   ]
  },
  {
   "cell_type": "code",
   "execution_count": 58,
   "id": "a868c8b3-d6f4-44d5-b014-92d5ea585ca3",
   "metadata": {},
   "outputs": [
    {
     "name": "stdout",
     "output_type": "stream",
     "text": [
      "terminado\n"
     ]
    }
   ],
   "source": [
    "\n",
    "direc = r'path2' \n",
    "table1 = 'mytable'\n",
    "schema = 'myschema'\n",
    "\n",
    "to_csv(cur, table1, direc, schema)\n",
    "\n",
    "print('end')"
   ]
  },
  {
   "cell_type": "code",
   "execution_count": null,
   "id": "974b1e93-f5c0-4f44-8989-e3f38d37b909",
   "metadata": {},
   "outputs": [],
   "source": []
  }
 ],
 "metadata": {
  "kernelspec": {
   "display_name": "Python 3 (ipykernel)",
   "language": "python",
   "name": "python3"
  },
  "language_info": {
   "codemirror_mode": {
    "name": "ipython",
    "version": 3
   },
   "file_extension": ".py",
   "mimetype": "text/x-python",
   "name": "python",
   "nbconvert_exporter": "python",
   "pygments_lexer": "ipython3",
   "version": "3.8.12"
  }
 },
 "nbformat": 4,
 "nbformat_minor": 5
}
